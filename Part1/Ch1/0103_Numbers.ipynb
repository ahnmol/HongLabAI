{
 "cells": [
  {
   "cell_type": "markdown",
   "id": "3451a079",
   "metadata": {},
   "source": [
    "<a href='https://honglab.ai'><p style=\"text-align:center;\"><img src='https://lh3.googleusercontent.com/lY3ySXooSmwsq5r-mRi7uiypbo0Vez6pmNoQxMFhl9fmZJkRHu5lO2vo7se_0YOzgmDyJif9fi4_z0o3ZFdwd8NVSWG6Ea80uWaf3pOHpR4GHGDV7kaFeuHR3yAjIJjDgfXMxsvw=w2400'  class=\"center\" width=\"100%\" height=\"100%\"/></p></a>\n",
    "\n",
    "<center><em>Content Copyright by HongLab, Inc.</em></center>"
   ]
  },
  {
   "cell_type": "markdown",
   "id": "a449685f",
   "metadata": {},
   "source": [
    "# 숫자(Numbers)\n",
    "\n",
    "### 정수(Integers)\n",
    "\n",
    "... , -3, -2, -1, 0, 1, 2, 3, ...\n",
    "\n"
   ]
  },
  {
   "cell_type": "code",
   "execution_count": 2,
   "id": "51238f68",
   "metadata": {},
   "outputs": [
    {
     "name": "stdout",
     "output_type": "stream",
     "text": [
      "123\n",
      "<class 'int'>\n",
      "579\n"
     ]
    }
   ],
   "source": [
    "i = 123\n",
    "\n",
    "print(i)\n",
    "print(type(i))   # <class 'int'>\n",
    "print(123 + 456) # 연산(operation)"
   ]
  },
  {
   "cell_type": "markdown",
   "id": "d5d2f768",
   "metadata": {},
   "source": [
    "[참고] 파이썬의 정수(int) 자료형은 범위에 제한이 없습니다. 반면에 C/C+++/Java 등의 int는 범위가 정해져 있습니다."
   ]
  },
  {
   "cell_type": "markdown",
   "id": "4663e7c7",
   "metadata": {},
   "source": [
    "넘파이 자료형들"
   ]
  },
  {
   "cell_type": "code",
   "execution_count": 3,
   "id": "75865766",
   "metadata": {},
   "outputs": [
    {
     "name": "stdout",
     "output_type": "stream",
     "text": [
      "123\n",
      "<class 'numpy.int32'>\n"
     ]
    }
   ],
   "source": [
    "import numpy as np # Numerical Python \n",
    "\n",
    "i = np.int32(123)\n",
    "\n",
    "print(i)\n",
    "print(type(i)) # <class 'numpy.int32'>"
   ]
  },
  {
   "cell_type": "code",
   "execution_count": 4,
   "id": "18884118",
   "metadata": {},
   "outputs": [
    {
     "name": "stdout",
     "output_type": "stream",
     "text": [
      "123\n",
      "<class 'numpy.uint32'>\n"
     ]
    }
   ],
   "source": [
    "i = np.uint32(123) # unsigned integer 32bit = 4 bytes\n",
    "# i = np.uint32(-123) # OverflowError: Python integer -123 out of bounds for uint32\n",
    "\n",
    "print(i)\n",
    "print(type(i)) # <class 'numpy.int32'>"
   ]
  },
  {
   "cell_type": "markdown",
   "id": "291659b5",
   "metadata": {},
   "source": [
    "### 실수(Real Numbers)\n",
    "\n",
    "$123.456$\n",
    "\n",
    "$\\frac{1}{3}=0.333...$\n",
    "\n",
    "원주율 $\\pi = 3.141592...$\n",
    "\n",
    "오일러의 수(Euler's number) $e = 2.71828...$ \n",
    "\n",
    "참고\n",
    "- $\\frac{d}{dx} e^x = e^x$\n",
    "- [3Blue1Brown - What's so special about Euler's number e?](https://www.youtube.com/watch?v=m2MIpDrF7Es)\n",
    "\n",
    "과학적 표기법 $12300000 = 123 \\times 10^{5} = 123e5$ <- 중간에 들어 있는 e 주의\n",
    "\n",
    "> 보충: 컴퓨터는 2진법을 사용합니다. 보통 C언어 프로그래밍 입문 강의에서 자세히 배웁니다."
   ]
  },
  {
   "cell_type": "code",
   "execution_count": 5,
   "id": "553ef730",
   "metadata": {},
   "outputs": [
    {
     "name": "stdout",
     "output_type": "stream",
     "text": [
      "3.141592653589793\n",
      "2.718281828459045\n",
      "1.0 2.718281828459045 7.38905609893065 20.085536923187668\n"
     ]
    }
   ],
   "source": [
    "print(np.pi) # 3.141592653589793\n",
    "print(np.e)  # 2.718281828459045\n",
    "print(np.exp(0), np.exp(1), np.exp(2), np.exp(3)) # np.exp(x) = np.power(np.e, x)"
   ]
  },
  {
   "cell_type": "markdown",
   "id": "d6b27b1f",
   "metadata": {},
   "source": [
    "### 부동소수점 수 (Floating-Point Numbers)\n",
    "\n"
   ]
  },
  {
   "cell_type": "code",
   "execution_count": 6,
   "id": "27c704dc",
   "metadata": {},
   "outputs": [
    {
     "name": "stdout",
     "output_type": "stream",
     "text": [
      "3.1415\n",
      "<class 'float'>\n"
     ]
    }
   ],
   "source": [
    "f = 3.1415\n",
    "print(f)\n",
    "print(type(f)) # 파이썬은 내부적으로 double-precision float64"
   ]
  },
  {
   "cell_type": "markdown",
   "id": "27d858bc",
   "metadata": {},
   "source": [
    "수치 오류"
   ]
  },
  {
   "cell_type": "code",
   "execution_count": 7,
   "id": "81d98039",
   "metadata": {},
   "outputs": [
    {
     "name": "stdout",
     "output_type": "stream",
     "text": [
      "0.30000000000000004\n"
     ]
    }
   ],
   "source": [
    "x = 0.1 + 0.2\n",
    "print(x) # 0.30000000000000004"
   ]
  },
  {
   "cell_type": "code",
   "execution_count": 8,
   "id": "8d877fa8",
   "metadata": {},
   "outputs": [
    {
     "name": "stdout",
     "output_type": "stream",
     "text": [
      "9.99999993922529e-09\n",
      "0.0\n"
     ]
    }
   ],
   "source": [
    "a = np.float64(1.00000001)\n",
    "b = np.float64(1.00000000)\n",
    "print(a - b)\n",
    "\n",
    "a = np.float32(1.00000001)\n",
    "b = np.float32(1.00000000)\n",
    "print(a - b)"
   ]
  },
  {
   "cell_type": "code",
   "execution_count": 9,
   "id": "5a6de5d6",
   "metadata": {},
   "outputs": [
    {
     "name": "stdout",
     "output_type": "stream",
     "text": [
      "10000000.0\n"
     ]
    }
   ],
   "source": [
    "sum = 10000000.0\n",
    "for i in range(10000000):\n",
    "    sum += 0.0000000001\n",
    "    \n",
    "print(sum) # 10000000.0"
   ]
  },
  {
   "cell_type": "code",
   "execution_count": 10,
   "id": "74234072",
   "metadata": {},
   "outputs": [
    {
     "name": "stdout",
     "output_type": "stream",
     "text": [
      "10000000.001\n"
     ]
    }
   ],
   "source": [
    "sum = 0.0\n",
    "for i in range(10000000):\n",
    "    sum += 0.0000000001\n",
    "sum += 10000000.0\n",
    "\n",
    "print(sum) # 10000000.001"
   ]
  }
 ],
 "metadata": {
  "kernelspec": {
   "display_name": "hongai",
   "language": "python",
   "name": "python3"
  },
  "language_info": {
   "codemirror_mode": {
    "name": "ipython",
    "version": 3
   },
   "file_extension": ".py",
   "mimetype": "text/x-python",
   "name": "python",
   "nbconvert_exporter": "python",
   "pygments_lexer": "ipython3",
   "version": "3.12.9"
  }
 },
 "nbformat": 4,
 "nbformat_minor": 5
}
