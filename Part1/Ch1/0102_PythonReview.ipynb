{
 "cells": [
  {
   "cell_type": "markdown",
   "id": "7b6c9a97",
   "metadata": {},
   "source": [
    "<a href='https://honglab.ai'><p style=\"text-align:center;\"><img src='https://lh3.googleusercontent.com/lY3ySXooSmwsq5r-mRi7uiypbo0Vez6pmNoQxMFhl9fmZJkRHu5lO2vo7se_0YOzgmDyJif9fi4_z0o3ZFdwd8NVSWG6Ea80uWaf3pOHpR4GHGDV7kaFeuHR3yAjIJjDgfXMxsvw=w2400'  class=\"center\" width=\"100%\" height=\"100%\"/></p></a>\n",
    "\n",
    "<center><em>Content Copyright by HongLab, Inc.</em></center>"
   ]
  },
  {
   "cell_type": "markdown",
   "id": "0c62b55a",
   "metadata": {},
   "source": [
    "# 파이썬 복습\n",
    "\n",
    "\n",
    "\n",
    "### 파이썬 설치\n",
    "\n",
    "아나콘다/미니콘다 가상환경 생성과 활성화\n",
    "- conda create -n 가상환경이름 python=3.12\n",
    "- conda activate 가상환경이름\n",
    "- pip install 패키지이름 \n",
    "- pip install -r requirements.txt ← 필요한 패키지들을 한 번에 설치\n",
    "- conda remove -n 가상환경이름 --all\n",
    "\n",
    "[파이토치](https://pytorch.org/) (파트1은 CPU만으로도 실습 가능)\n",
    "- pip install torch torchvision torchaudio\n",
    "\n",
    "기타\n",
    "- 패키지를 분명히 설치했는데 없다고 에러가 발생할 경우에는 주피터노트북 오른쪽 위에서 현재 사용중인 가상환경에 설치한 것이 맞는지 확인해보세요."
   ]
  },
  {
   "cell_type": "markdown",
   "id": "00713685",
   "metadata": {},
   "source": [
    "### 기본 문법\n",
    "\n",
    "파트1은 [파이썬 추월코스](https://www.honglab.ai/courses/python) 챕터5에 상응하는 프로그래밍 연습\n",
    "- 조건문, 반복문, 자료구조(리스트, 튜플, 딕트), 클래스 등\n",
    "- 주소록 만들기, 딥러닝 모델 사용, 게임 제작 등\n",
    "\n",
    "자잘한 코드 설명은 AI챗봇 활용하세요!"
   ]
  },
  {
   "cell_type": "markdown",
   "id": "8288e185",
   "metadata": {},
   "source": [
    "### 클래스 상속"
   ]
  },
  {
   "cell_type": "code",
   "execution_count": 1,
   "id": "cc584199",
   "metadata": {},
   "outputs": [
    {
     "name": "stdout",
     "output_type": "stream",
     "text": [
      "야옹!\n",
      "뛰어갑니다.\n"
     ]
    }
   ],
   "source": [
    "class Animal:\n",
    "    def speak(self):\n",
    "        print(\"소리를 냅니다.\")\n",
    "    def run(self):\n",
    "        print(\"뛰어갑니다.\")\n",
    "\n",
    "class Cat(Animal):\n",
    "    def speak(self):\n",
    "        print(\"야옹!\")\n",
    "\n",
    "cat = Cat()\n",
    "cat.speak()\n",
    "cat.run()"
   ]
  },
  {
   "cell_type": "markdown",
   "id": "7af65c12",
   "metadata": {},
   "source": [
    "### 연산자 오버로딩\n",
    "\n",
    "[참고] [Special method names](https://docs.python.org/2.7/reference/datamodel.html#special-method-names)"
   ]
  },
  {
   "cell_type": "code",
   "execution_count": 2,
   "id": "f8744c82",
   "metadata": {},
   "outputs": [
    {
     "name": "stdout",
     "output_type": "stream",
     "text": [
      "0 1 4 9 16 "
     ]
    }
   ],
   "source": [
    "class SquareNumbers:\n",
    "    def __init__(self, my_list):\n",
    "        self.my_list = my_list\n",
    "\n",
    "    def __getitem__(self, idx):\n",
    "        return self.my_list[idx] ** 2 # + 10\n",
    "    \n",
    "    def __len__(self):\n",
    "        return len(self.my_list)\n",
    "\n",
    "squares = SquareNumbers([0, 1, 2, 3, 4])\n",
    "\n",
    "for i in range(len(squares)):\n",
    "    print(squares[i], end=\" \")"
   ]
  },
  {
   "cell_type": "markdown",
   "id": "77176fa0",
   "metadata": {},
   "source": [
    "### 컨텍스트 매니저"
   ]
  },
  {
   "cell_type": "code",
   "execution_count": 1,
   "id": "8fefd396",
   "metadata": {},
   "outputs": [
    {
     "name": "stdout",
     "output_type": "stream",
     "text": [
      "불을 켭니다.\n",
      "방에서 책을 읽습니다.\n",
      "불을 끕니다.\n",
      "with 블럭 밖으로 나왔습니다.\n"
     ]
    }
   ],
   "source": [
    "# 컨텍스트 매니저(with)\n",
    "class Light:\n",
    "    def __enter__(self):\n",
    "        print(\"불을 켭니다.\")\n",
    "        return self\n",
    "\n",
    "    def __exit__(self, exc_type, exc_val, exc_tb):\n",
    "        print(\"불을 끕니다.\")\n",
    "\n",
    "with Light():\n",
    "    print(\"방에서 책을 읽습니다.\")\n",
    "\n",
    "print(\"with 블럭 밖으로 나왔습니다.\")"
   ]
  },
  {
   "cell_type": "markdown",
   "id": "16d76430",
   "metadata": {},
   "source": [
    "### 팬더스(Pandas)"
   ]
  },
  {
   "cell_type": "code",
   "execution_count": 4,
   "id": "1097a1c3",
   "metadata": {},
   "outputs": [
    {
     "name": "stdout",
     "output_type": "stream",
     "text": [
      "   이름  나이\n",
      "0  철수  20\n",
      "1  영희  21\n",
      "2  민수  19\n"
     ]
    }
   ],
   "source": [
    "import pandas as pd\n",
    "\n",
    "data = {'이름': ['철수', '영희', '민수'], '나이': [20, 21, 19]}\n",
    "df = pd.DataFrame(data)\n",
    "print(df)"
   ]
  },
  {
   "cell_type": "markdown",
   "id": "b18c79fb",
   "metadata": {},
   "source": [
    "### 넘파이(Numpy)"
   ]
  },
  {
   "cell_type": "markdown",
   "id": "2cf24813",
   "metadata": {},
   "source": [
    "1차원 배열 (리스트)"
   ]
  },
  {
   "cell_type": "code",
   "execution_count": 5,
   "id": "a44bb79e",
   "metadata": {},
   "outputs": [
    {
     "name": "stdout",
     "output_type": "stream",
     "text": [
      "int64\n",
      "(3,)\n",
      "[1 2 3]\n"
     ]
    }
   ],
   "source": [
    "import numpy as np\n",
    "\n",
    "arr = np.array([1, 2, 3])\n",
    "\n",
    "print(arr.dtype)\n",
    "print(arr.shape) # <- 중요\n",
    "print(arr)"
   ]
  },
  {
   "cell_type": "markdown",
   "id": "b9be28d4",
   "metadata": {},
   "source": [
    "[보충] 뉴럴네트워크는 여러개의 레이어(층)으로 이뤄져 있습니다. 각 레이어의 입력과 출력이 잘 맞는 지를 점검해야 하는데 이때 형태(shape)를 보는 것이 가장 기본입니다."
   ]
  },
  {
   "cell_type": "markdown",
   "id": "ef6a8199",
   "metadata": {},
   "source": [
    "2차원 배열 (중첩 리스트)"
   ]
  },
  {
   "cell_type": "code",
   "execution_count": 6,
   "id": "b2e239da",
   "metadata": {},
   "outputs": [
    {
     "name": "stdout",
     "output_type": "stream",
     "text": [
      "(2, 3)\n",
      "[[1 2 3]\n",
      " [4 5 6]]\n"
     ]
    }
   ],
   "source": [
    "import numpy as np\n",
    "\n",
    "arr = np.array([[1, 2, 3],\n",
    "                [4, 5, 6]])\n",
    "\n",
    "print(arr.shape) # <- 중요\n",
    "print(arr)"
   ]
  },
  {
   "cell_type": "markdown",
   "id": "6b4488fc",
   "metadata": {},
   "source": [
    "인덱싱"
   ]
  },
  {
   "cell_type": "code",
   "execution_count": 7,
   "id": "1a94fd5e",
   "metadata": {},
   "outputs": [
    {
     "name": "stdout",
     "output_type": "stream",
     "text": [
      "7\n",
      "7\n",
      "7\n"
     ]
    }
   ],
   "source": [
    "import numpy as np\n",
    "\n",
    "l = [[1, 2, 3, 4], \n",
    "     [5, 6, 7, 8], \n",
    "     [9, 10, 11, 12]]\n",
    "\n",
    "arr = np.array(l)\n",
    "\n",
    "print(l[1][2])  # nested list\n",
    "print(arr[1][2])\n",
    "print(arr[1,2])"
   ]
  },
  {
   "cell_type": "markdown",
   "id": "dfc58628",
   "metadata": {},
   "source": [
    "[위키피디아 Dot product](https://en.wikipedia.org/wiki/Dot_product)"
   ]
  },
  {
   "cell_type": "code",
   "execution_count": 8,
   "id": "8f0dd941",
   "metadata": {},
   "outputs": [
    {
     "name": "stdout",
     "output_type": "stream",
     "text": [
      "[ 4 10 18]\n",
      "32\n",
      "32\n"
     ]
    }
   ],
   "source": [
    "import numpy as np\n",
    "\n",
    "a = np.array([1, 2, 3]) # 1차원 배열 (벡터)\n",
    "b = np.array([4, 5, 6]) # 1차원 배열 (벡터)\n",
    "\n",
    "a_mul_b = a * b\n",
    "a_dot_b = np.dot(a, b) \n",
    "a_at_b = a @ b # 여기서는 np.dot(a, b)와 동일            \n",
    "\n",
    "print(a_mul_b)\n",
    "print(a_dot_b)\n",
    "print(a_at_b)"
   ]
  },
  {
   "cell_type": "markdown",
   "id": "fa3f3b7b",
   "metadata": {},
   "source": [
    "크기가 같은 행렬 곱하기 (예시: [Matrix Multiplication Inches Closer to Mythic Goal](https://www.quantamagazine.org/mathematicians-inch-closer-to-matrix-multiplication-goal-20210323/))"
   ]
  },
  {
   "cell_type": "code",
   "execution_count": 2,
   "id": "67679695",
   "metadata": {},
   "outputs": [
    {
     "name": "stdout",
     "output_type": "stream",
     "text": [
      "[[ 5 12]\n",
      " [21 32]]\n",
      "[[19 22]\n",
      " [43 50]]\n",
      "[[19 22]\n",
      " [43 50]]\n"
     ]
    }
   ],
   "source": [
    "import numpy as np\n",
    "\n",
    "a = np.array([[1, 2], \n",
    "              [3, 4]]) # 2차원 배열 (2x2 행렬)\n",
    "\n",
    "b = np.array([[5, 6], \n",
    "              [7, 8]]) # 2차원 배열 (2x2 행렬)\n",
    "\n",
    "a_mul_b = a * b # 원소별 곱셈 (Hadamard product)\n",
    "a_matmul_b = np.matmul(a, b) # 행렬 곱셈\n",
    "a_at_b = a @ b # 여기서는 np.matmul(a, b)와 동일\n",
    "\n",
    "print(a_mul_b)\n",
    "print(a_matmul_b)\n",
    "print(a_at_b)"
   ]
  },
  {
   "cell_type": "markdown",
   "id": "ebaeb28b",
   "metadata": {},
   "source": [
    "크기가 다른 행렬 곱하기 (예시: [How to perform Matrix Multiplication with Numpy Python](https://www.boardinfinity.com/blog/how-to-perform-matrix-multiplication-with-numpy-python/))"
   ]
  },
  {
   "cell_type": "code",
   "execution_count": 3,
   "id": "eff29d79",
   "metadata": {},
   "outputs": [
    {
     "name": "stdout",
     "output_type": "stream",
     "text": [
      "[[140 146]\n",
      " [320 335]]\n",
      "[[140 146]\n",
      " [320 335]]\n"
     ]
    }
   ],
   "source": [
    "import numpy as np\n",
    "\n",
    "a = np.array([[1, 2, 3], \n",
    "              [4, 5, 6]]) # 2차원 배열 (2x3 행렬)\n",
    "\n",
    "b = np.array([[10, 11], \n",
    "              [20, 21],\n",
    "              [30, 31]])  # 2차원 배열 (3x2 행렬)\n",
    "\n",
    "# print(b.T)\n",
    "\n",
    "# a_mul_b = a * b # 크기가 안맞아서 원소별 곱셈 (Hadamard product) 불가 (a * b.T는 가능)\n",
    "a_matmul_b = np.matmul(a, b) \n",
    "a_at_b = a @ b\n",
    "\n",
    "print(a_matmul_b)\n",
    "print(a_at_b)"
   ]
  },
  {
   "cell_type": "markdown",
   "id": "aa19949c",
   "metadata": {},
   "source": [
    "### 그래프 그리기\n",
    "\n",
    "그래프 그리는 코드는 대부분 AI챗봇으로 만듭니다. 그래프의 의미만 이해할 수 있으면 됩니다. 코드 자체를 꼼꼼하게 분석하실 필요는 없습니다."
   ]
  },
  {
   "cell_type": "code",
   "execution_count": 6,
   "id": "b009b8bc",
   "metadata": {},
   "outputs": [
    {
     "data": {
      "image/png": "[encoded data removed]",
      "text/plain": [
       "<Figure size 640x480 with 1 Axes>"
      ]
     },
     "metadata": {},
     "output_type": "display_data"
    }
   ],
   "source": [
    "import matplotlib.pyplot as plt\n",
    "import numpy as np\n",
    "\n",
    "x = np.linspace(-5, 5, 100)  # -5부터 5까지 100개의 점 생성\n",
    "y = x ** 2\n",
    "\n",
    "#print(x)\n",
    "#print(y)\n",
    "\n",
    "plt.plot(x, y)\n",
    "plt.xlabel(\"x\")\n",
    "plt.ylabel(\"y\")\n",
    "plt.title(\"$y = x^2$\")\n",
    "plt.grid(True)\n",
    "plt.show()"
   ]
  },
  {
   "cell_type": "code",
   "execution_count": 7,
   "id": "d245d2cf",
   "metadata": {},
   "outputs": [
    {
     "data": {
      "text/html": [
       "\n",
       "<style>\n",
       "  #altair-viz-853d034c32ca4251ae4e6e48efd42856.vega-embed {\n",
       "    width: 100%;\n",
       "    display: flex;\n",
       "  }\n",
       "\n",
       "  #altair-viz-853d034c32ca4251ae4e6e48efd42856.vega-embed details,\n",
       "  #altair-viz-853d034c32ca4251ae4e6e48efd42856.vega-embed details summary {\n",
       "    position: relative;\n",
       "  }\n",
       "</style>\n",
       "<div id=\"altair-viz-853d034c32ca4251ae4e6e48efd42856\"></div>\n",
       "<script type=\"text/javascript\">\n",
       "  var VEGA_DEBUG = (typeof VEGA_DEBUG == \"undefined\") ? {} : VEGA_DEBUG;\n",
       "  (function(spec, embedOpt){\n",
       "    let outputDiv = document.currentScript.previousElementSibling;\n",
       "    if (outputDiv.id !== \"altair-viz-853d034c32ca4251ae4e6e48efd42856\") {\n",
       "      outputDiv = document.getElementById(\"altair-viz-853d034c32ca4251ae4e6e48efd42856\");\n",
       "    }\n",
       "\n",
       "    const paths = {\n",
       "      \"vega\": \"https://cdn.jsdelivr.net/npm/vega@5?noext\",\n",
       "      \"vega-lib\": \"https://cdn.jsdelivr.net/npm/vega-lib?noext\",\n",
       "      \"vega-lite\": \"https://cdn.jsdelivr.net/npm/vega-lite@5.20.1?noext\",\n",
       "      \"vega-embed\": \"https://cdn.jsdelivr.net/npm/vega-embed@6?noext\",\n",
       "    };\n",
       "\n",
       "    function maybeLoadScript(lib, version) {\n",
       "      var key = `${lib.replace(\"-\", \"\")}_version`;\n",
       "      return (VEGA_DEBUG[key] == version) ?\n",
       "        Promise.resolve(paths[lib]) :\n",
       "        new Promise(function(resolve, reject) {\n",
       "          var s = document.createElement('script');\n",
       "          document.getElementsByTagName(\"head\")[0].appendChild(s);\n",
       "          s.async = true;\n",
       "          s.onload = () => {\n",
       "            VEGA_DEBUG[key] = version;\n",
       "            return resolve(paths[lib]);\n",
       "          };\n",
       "          s.onerror = () => reject(`Error loading script: ${paths[lib]}`);\n",
       "          s.src = paths[lib];\n",
       "        });\n",
       "    }\n",
       "\n",
       "    function showError(err) {\n",
       "      outputDiv.innerHTML = `<div class=\"error\" style=\"color:red;\">${err}</div>`;\n",
       "      throw err;\n",
       "    }\n",
       "\n",
       "    function displayChart(vegaEmbed) {\n",
       "      vegaEmbed(outputDiv, spec, embedOpt)\n",
       "        .catch(err => showError(`Javascript Error: ${err.message}<br>This usually means there's a typo in your chart specification. See the javascript console for the full traceback.`));\n",
       "    }\n",
       "\n",
       "    if(typeof define === \"function\" && define.amd) {\n",
       "      requirejs.config({paths});\n",
       "      let deps = [\"vega-embed\"];\n",
       "      require(deps, displayChart, err => showError(`Error loading script: ${err.message}`));\n",
       "    } else {\n",
       "      maybeLoadScript(\"vega\", \"5\")\n",
       "        .then(() => maybeLoadScript(\"vega-lite\", \"5.20.1\"))\n",
       "        .then(() => maybeLoadScript(\"vega-embed\", \"6\"))\n",
       "        .catch(showError)\n",
       "        .then(() => displayChart(vegaEmbed));\n",
       "    }\n",
       "  })({\"config\": {\"view\": {\"continuousWidth\": 300, \"continuousHeight\": 300}}, \"data\": {\"name\": \"data-3e05075d88e2b5effe695c7d02de22d1\"}, \"mark\": {\"type\": \"line\"}, \"encoding\": {\"x\": {\"field\": \"x\", \"type\": \"quantitative\"}, \"y\": {\"field\": \"y\", \"type\": \"quantitative\"}}, \"params\": [{\"name\": \"param_1\", \"select\": {\"type\": \"interval\"}, \"bind\": \"scales\"}], \"title\": \"y = x^2\", \"$schema\": \"https://vega.github.io/schema/vega-lite/v5.20.1.json\", \"datasets\": {\"data-3e05075d88e2b5effe695c7d02de22d1\": [{\"x\": -5.0, \"y\": 25.0}, {\"x\": -4.898989898989899, \"y\": 24.00010203040506}, {\"x\": -4.797979797979798, \"y\": 23.02061014182226}, {\"x\": -4.696969696969697, \"y\": 22.061524334251608}, {\"x\": -4.595959595959596, \"y\": 21.122844607693093}, {\"x\": -4.494949494949495, \"y\": 20.204570962146718}, {\"x\": -4.393939393939394, \"y\": 19.306703397612484}, {\"x\": -4.292929292929293, \"y\": 18.4292419140904}, {\"x\": -4.191919191919192, \"y\": 17.57218651158045}, {\"x\": -4.090909090909091, \"y\": 16.735537190082646}, {\"x\": -3.9898989898989896, \"y\": 15.919293949596977}, {\"x\": -3.888888888888889, \"y\": 15.123456790123456}, {\"x\": -3.787878787878788, \"y\": 14.348025711662077}, {\"x\": -3.686868686868687, \"y\": 13.593000714212835}, {\"x\": -3.5858585858585856, \"y\": 12.858381797775735}, {\"x\": -3.484848484848485, \"y\": 12.144168962350781}, {\"x\": -3.383838383838384, \"y\": 11.450362207937967}, {\"x\": -3.282828282828283, \"y\": 10.776961534537293}, {\"x\": -3.1818181818181817, \"y\": 10.12396694214876}, {\"x\": -3.080808080808081, \"y\": 9.49137843077237}, {\"x\": -2.9797979797979797, \"y\": 8.87919600040812}, {\"x\": -2.878787878787879, \"y\": 8.287419651056016}, {\"x\": -2.7777777777777777, \"y\": 7.716049382716049}, {\"x\": -2.676767676767677, \"y\": 7.165085195388227}, {\"x\": -2.5757575757575757, \"y\": 6.634527089072543}, {\"x\": -2.474747474747475, \"y\": 6.124375063769004}, {\"x\": -2.3737373737373737, \"y\": 5.634629119477604}, {\"x\": -2.272727272727273, \"y\": 5.165289256198348}, {\"x\": -2.1717171717171717, \"y\": 4.716355473931231}, {\"x\": -2.070707070707071, \"y\": 4.287827772676258}, {\"x\": -1.9696969696969697, \"y\": 3.879706152433425}, {\"x\": -1.868686868686869, \"y\": 3.491990613202735}, {\"x\": -1.7676767676767677, \"y\": 3.1246811549841853}, {\"x\": -1.6666666666666665, \"y\": 2.7777777777777772}, {\"x\": -1.5656565656565657, \"y\": 2.4512804815835123}, {\"x\": -1.4646464646464645, \"y\": 2.1451892664013874}, {\"x\": -1.3636363636363638, \"y\": 1.8595041322314052}, {\"x\": -1.2626262626262625, \"y\": 1.5942250790735637}, {\"x\": -1.1616161616161618, \"y\": 1.349352106927865}, {\"x\": -1.0606060606060606, \"y\": 1.1248852157943066}, {\"x\": -0.9595959595959593, \"y\": 0.92082440567289}, {\"x\": -0.858585858585859, \"y\": 0.7371696765636166}, {\"x\": -0.7575757575757578, \"y\": 0.5739210284664833}, {\"x\": -0.6565656565656566, \"y\": 0.4310784613814917}, {\"x\": -0.5555555555555554, \"y\": 0.30864197530864174}, {\"x\": -0.45454545454545503, \"y\": 0.20661157024793433}, {\"x\": -0.3535353535353538, \"y\": 0.1249872461993676}, {\"x\": -0.2525252525252526, \"y\": 0.0637690031629426}, {\"x\": -0.15151515151515138, \"y\": 0.02295684113865928}, {\"x\": -0.050505050505050164, \"y\": 0.002550760126517668}, {\"x\": 0.050505050505050164, \"y\": 0.002550760126517668}, {\"x\": 0.15151515151515138, \"y\": 0.02295684113865928}, {\"x\": 0.2525252525252526, \"y\": 0.0637690031629426}, {\"x\": 0.3535353535353538, \"y\": 0.1249872461993676}, {\"x\": 0.45454545454545414, \"y\": 0.20661157024793353}, {\"x\": 0.5555555555555554, \"y\": 0.30864197530864174}, {\"x\": 0.6565656565656566, \"y\": 0.4310784613814917}, {\"x\": 0.7575757575757578, \"y\": 0.5739210284664833}, {\"x\": 0.8585858585858581, \"y\": 0.7371696765636152}, {\"x\": 0.9595959595959593, \"y\": 0.92082440567289}, {\"x\": 1.0606060606060606, \"y\": 1.1248852157943066}, {\"x\": 1.1616161616161618, \"y\": 1.349352106927865}, {\"x\": 1.262626262626262, \"y\": 1.5942250790735626}, {\"x\": 1.3636363636363633, \"y\": 1.859504132231404}, {\"x\": 1.4646464646464645, \"y\": 2.1451892664013874}, {\"x\": 1.5656565656565657, \"y\": 2.4512804815835123}, {\"x\": 1.666666666666667, \"y\": 2.7777777777777786}, {\"x\": 1.7676767676767673, \"y\": 3.124681154984184}, {\"x\": 1.8686868686868685, \"y\": 3.491990613202734}, {\"x\": 1.9696969696969697, \"y\": 3.879706152433425}, {\"x\": 2.070707070707071, \"y\": 4.287827772676258}, {\"x\": 2.1717171717171713, \"y\": 4.7163554739312294}, {\"x\": 2.2727272727272725, \"y\": 5.165289256198346}, {\"x\": 2.3737373737373737, \"y\": 5.634629119477604}, {\"x\": 2.474747474747475, \"y\": 6.124375063769004}, {\"x\": 2.5757575757575752, \"y\": 6.634527089072541}, {\"x\": 2.6767676767676765, \"y\": 7.165085195388224}, {\"x\": 2.7777777777777777, \"y\": 7.716049382716049}, {\"x\": 2.878787878787879, \"y\": 8.287419651056016}, {\"x\": 2.9797979797979792, \"y\": 8.879196000408118}, {\"x\": 3.0808080808080813, \"y\": 9.491378430772373}, {\"x\": 3.1818181818181817, \"y\": 10.12396694214876}, {\"x\": 3.282828282828282, \"y\": 10.776961534537287}, {\"x\": 3.383838383838384, \"y\": 11.450362207937967}, {\"x\": 3.4848484848484844, \"y\": 12.144168962350777}, {\"x\": 3.5858585858585865, \"y\": 12.858381797775742}, {\"x\": 3.686868686868687, \"y\": 13.593000714212835}, {\"x\": 3.787878787878787, \"y\": 14.34802571166207}, {\"x\": 3.8888888888888893, \"y\": 15.12345679012346}, {\"x\": 3.9898989898989896, \"y\": 15.919293949596977}, {\"x\": 4.09090909090909, \"y\": 16.73553719008264}, {\"x\": 4.191919191919192, \"y\": 17.57218651158045}, {\"x\": 4.292929292929292, \"y\": 18.429241914090394}, {\"x\": 4.3939393939393945, \"y\": 19.306703397612495}, {\"x\": 4.494949494949495, \"y\": 20.204570962146718}, {\"x\": 4.595959595959595, \"y\": 21.122844607693086}, {\"x\": 4.696969696969697, \"y\": 22.061524334251608}, {\"x\": 4.797979797979798, \"y\": 23.02061014182226}, {\"x\": 4.8989898989899, \"y\": 24.000102030405067}, {\"x\": 5.0, \"y\": 25.0}]}}, {\"mode\": \"vega-lite\"});\n",
       "</script>"
      ],
      "text/plain": [
       "alt.Chart(...)"
      ]
     },
     "execution_count": 7,
     "metadata": {},
     "output_type": "execute_result"
    }
   ],
   "source": [
    "import altair as alt\n",
    "import pandas as pd\n",
    "import numpy as np\n",
    "\n",
    "x = np.linspace(-5, 5, 100)\n",
    "y = x ** 2\n",
    "\n",
    "df = pd.DataFrame({'x': x, 'y': y}) # <- Pandas 사용\n",
    "\n",
    "# Create a zooming selection\n",
    "zoom = alt.selection_interval(bind='scales')\n",
    "\n",
    "chart = alt.Chart(df).mark_line().encode(\n",
    "    x='x',\n",
    "    y='y'\n",
    ").properties(\n",
    "    title='y = x^2'\n",
    ").add_params(\n",
    "    zoom\n",
    ")\n",
    "\n",
    "chart"
   ]
  }
 ],
 "metadata": {
  "kernelspec": {
   "display_name": "hongai",
   "language": "python",
   "name": "python3"
  },
  "language_info": {
   "codemirror_mode": {
    "name": "ipython",
    "version": 3
   },
   "file_extension": ".py",
   "mimetype": "text/x-python",
   "name": "python",
   "nbconvert_exporter": "python",
   "pygments_lexer": "ipython3",
   "version": "3.12.9"
  }
 },
 "nbformat": 4,
 "nbformat_minor": 5
}
